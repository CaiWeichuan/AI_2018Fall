{
 "cells": [
  {
   "cell_type": "markdown",
   "metadata": {},
   "source": [
    "# Introduction to Artificial Intelligence for Non Computing"
   ]
  },
  {
   "cell_type": "markdown",
   "metadata": {},
   "source": [
    "## Practical 3 (weeks 5 - 6)"
   ]
  },
  {
   "cell_type": "markdown",
   "metadata": {},
   "source": [
    "The following links provide additional information about data analysis , machine learning and Numpy"
   ]
  },
  {
   "cell_type": "markdown",
   "metadata": {},
   "source": [
    "Python data analysis: https://www.imooc.com/learn/843\n",
    "machine learning: https://www.imooc.com/learn/717\n",
    "Numpy :https://www.imooc.com/learn/943"
   ]
  },
  {
   "cell_type": "markdown",
   "metadata": {},
   "source": [
    "#### Theory Questions"
   ]
  },
  {
   "cell_type": "markdown",
   "metadata": {},
   "source": [
    "1\\.Which of the following are true and which are false? Give brief explanations.\n",
    "- a. In a fully observable, turn-taking, zero-sum game between two perfectly rational players,it does not help the first player to know what strategy the second player is using—that is, what move the second player will make, given the first player's move.\n",
    "- b. In a partially observable, turn-taking, zero-sum game between two perfectly rational players, it does not help the first player to know what move the second player will make, given the first player's move.\n",
    "- c. A perfectly rational backgammon agent never loses.\n",
    "\n",
    "See textbook Chapter6 24.6"
   ]
  },
  {
   "cell_type": "markdown",
   "metadata": {},
   "source": [
    "_your answer here..._ \n",
    "\n",
    "- a.True. The second player will play good. \n",
    "- b.False. the first player will get more information about this game.  \n",
    "- c.False. Backgammon is a game of chance, so we can't say that it will never loss. "
   ]
  },
  {
   "cell_type": "markdown",
   "metadata": {},
   "source": [
    "2\\.Define in your own words the terms constraint, backtracking search, arc consistency,backjumping, min-conflicts, and cycle cutset.\n",
    "\n",
    "See textbook Chapter6 6.16"
   ]
  },
  {
   "cell_type": "markdown",
   "metadata": {},
   "source": [
    "_your answer here..._ \n",
    "\n",
    "\n",
    "- constraint A constraint a umbiction on Me possible values of two or more variables. \n",
    "- backtracking search. Backtracking search is a kind of depth-first search (DFS). For a certain search tree (search tree is the role of recording path and state judgment), backtracking and OFS, the main differences that backtracking method is not in the solution process. The complete tree structures preserved, while the depth-first search records the complete search tree. \n",
    "- arc consistency:A directed arc from variab. A to variable B in a CSP . arc consistent if, for every value in the current domain MA, there is some consistent value of B. \n",
    "- backjumping:Backjumping is a way of maldng backtracking search mom effic.nt, by Bmffing bask mare than one level wren a dead end ln reached-\n",
    "- min-conflkts is a heudstic for use with local search on CSP problems. The heuristic says that, when given a variable to modify, choose the value that confiicis with the fewest number of other variables. \n",
    "- cycle corset A cycle cutset is a set of vadables which when removed from the constraint graph make it acyclic (i.e. a tree). When the variables of a cycle cutset are instantiated the remainder of the  CSP can be solved in linear time. \n"
   ]
  },
  {
   "cell_type": "markdown",
   "metadata": {},
   "source": [
    "3\\.Explain why it is a good heuristic to choose the variable that is most constrained but the value that is least constraining in a CSP search.\n",
    "\n",
    "See textbook Chapter6 6.9"
   ]
  },
  {
   "cell_type": "markdown",
   "metadata": {},
   "source": [
    "_your answer here..._ \n",
    "\n",
    "- The most constrained vanable makes sense because chooses a variable that is (all other things being equal) likely to cause a failure, and s more effluent to fail as early as possible (thereby pruning large parts of the search space) The Past constraining value heunsbc makes sense because rt allows the most chances for Pture assignmenis to avoid conflict \n",
    "\n"
   ]
  },
  {
   "cell_type": "markdown",
   "metadata": {},
   "source": [
    "4\\.Consider the following procedure for choosing moves in games with chance nodes: \n",
    "- 1、Generate some dice-roll sequences (say, 50) down to a suitable depth (say, 8).\n",
    "- 2、With known dice rolls, the game tree becomes deterministic. For each dice-roll sequence,solve the resulting deterministic game tree using alpha-beta.\n",
    "- 3、Use the results to estimate the value of each move and to choose the best.Will this procedure work well? Why (or why not)?\n",
    "\n",
    "See textbook Chapter5 5.19"
   ]
  },
  {
   "cell_type": "markdown",
   "metadata": {},
   "source": [
    "_your answer here..._ \n",
    "\n",
    "-This procedure will give incorspt results. Mathematically, the procedure amounts to assuming that averaging commutes with min and mark whshfl does not Intukwely, the choices made by each player in the deterministic tress are based on full knowledge of -Store dice rolls, and bear no necessary relationship to the moves made without such knowledge "
   ]
  },
  {
   "cell_type": "markdown",
   "metadata": {},
   "source": [
    "5\\. Now,please consider this game:  there are three plates A, B and C, each plate has three bills. A puts 1, 20, 50; B puts 5, 10, 100; C puts 1, 5, 20. All units are \"Yuan\". There are two persons A and B, and two of them can check out three plates and banknotes .（ A is ourself, The other is B）\n",
    "The game is divided into three steps: \n",
    "- 1、A select a plate from three plate.\n",
    "- 2、B take out two banknotes from A selected plate,and give the  banknotes to A.  \n",
    "- 3、A take one of the two banknotes, and take it away.among,A want to get the max banknotes, B want to let A to get the min.\n",
    "\n",
    "Try to understand the minimax algorithm，you can click the link:https://blog.csdn.net/tangchenyi/article/details/22920031"
   ]
  },
  {
   "cell_type": "markdown",
   "metadata": {},
   "source": [
    "_your answer here..._ \n",
    "\n",
    "***"
   ]
  },
  {
   "cell_type": "markdown",
   "metadata": {},
   "source": [
    "### Programming Excercises"
   ]
  },
  {
   "cell_type": "markdown",
   "metadata": {},
   "source": [
    "1\\. Guess number(Single number): please generate a randomly number  with the function (random), then ask someone to guess the number,I think we should give the corresponding hint, otherwise it will be very difficult to guess the number.the game will be over untill you get the right number."
   ]
  },
  {
   "cell_type": "code",
   "execution_count": 1,
   "metadata": {},
   "outputs": [
    {
     "name": "stdout",
     "output_type": "stream",
     "text": [
      "Can you guess the single number?\n",
      "Your guess: 5\n",
      "the guess number bigger than the number.\n",
      "Your guess: 3\n",
      "You are right!\n"
     ]
    }
   ],
   "source": [
    "## write your answer here!\n",
    "import random\n",
    "number = random.randint(0,10)\n",
    "print(\"Can you guess the single number?\")\n",
    "guess = int(input(\"Your guess: \"))\n",
    "while guess!= number:\n",
    "    if guess>number:\n",
    "        print(\"the guess number bigger than the number.\")\n",
    "    else:\n",
    "        print(\"the guess number smaller than the number.\")\n",
    "    guess = int(input(\"Your guess: \"))\n",
    "print(\"You are right!\")"
   ]
  },
  {
   "cell_type": "markdown",
   "metadata": {},
   "source": [
    "2\\.if you had understand the guess single number games,Congratulates,next is the guess three number games,Maybe you can do it well.But this is a different way of thinking. \n",
    "first : we need generate three numbers,there are most ten times chances give  you to guess the number,of course,we also give you some cue.\n",
    "\n",
    "- 'When I say:-->It means:\n",
    "- 'error--> The 3 numbers are not in the mystical numbers.'\n",
    "- 'Only the number is correct --> the number is right , but the position is not right.'\n",
    "- 'Absolutely right--> numbers is right and the position also right.'\n",
    "\n",
    "Maybe it's better for you to understand the rule well through see the picture.\n",
    "<div style=\"float:left;\" ><img src=\"img/p1.png\" width=\"400\" height=\"300\" >"
   ]
  },
  {
   "cell_type": "code",
   "execution_count": 2,
   "metadata": {},
   "outputs": [
    {
     "name": "stdout",
     "output_type": "stream",
     "text": [
      "This is the 1 time: 123\n",
      "['error', 'error', 'Only the number is correct']\n",
      "This is the 2 time: 345\n",
      "['Absolutely right', 'error', 'error']\n",
      "This is the 3 time: 367\n",
      "['Absolutely right', 'error', 'error']\n",
      "This is the 4 time: 389\n",
      "['Absolutely right', 'Only the number is correct', 'Only the number is correct']\n",
      "This is the 5 time: 398\n",
      "Congratulation!\n"
     ]
    }
   ],
   "source": [
    "## write your answer here!\n",
    "import random\n",
    "numberl = random.sample(range(1,10),3)\n",
    "number = 100*numberl[0]+10*numberl[1]+numberl[2]\n",
    "\n",
    "guess = int(input(\"This is the 1 time: \"))\n",
    "def llist(guess):\n",
    "    guess_list = []\n",
    "    for i in str(guess):\n",
    "        guess_list.append(int(i))\n",
    "    return guess_list\n",
    "guess_list = llist(guess)\n",
    "i = 1\n",
    "while guess!=number and i<=10:\n",
    "    i+=1\n",
    "    re = []\n",
    "    for x in range(3):\n",
    "        if  guess_list[x]== numberl[x]:\n",
    "            command = \"Absolutely right\"\n",
    "        else:\n",
    "            if guess_list[x] in numberl:\n",
    "                command = \"Only the number is correct\"\n",
    "            else:\n",
    "                command = \"error\"\n",
    "        re.append(command)\n",
    "    print(re)\n",
    "    guess = int(input(\"This is the \"+str(i)+\" time: \"))\n",
    "    guess_list = llist(guess)\n",
    "    \n",
    "if guess == number:    \n",
    "    print(\"Congratulation!\")\n",
    "else:\n",
    "    print(\"sorry,you are lost.\")"
   ]
  },
  {
   "cell_type": "markdown",
   "metadata": {},
   "source": [
    "3\\.please try using Python's Tkinter to make a visual interface（GUI）.if you don't know anything.Maybe you can refer to the below interface.and implement it by code.\n",
    "\n",
    "<div style=\"float:left;\" ><img src=\"img/p2.png\" width=\"200\" height=\"200\" >"
   ]
  },
  {
   "cell_type": "code",
   "execution_count": 12,
   "metadata": {},
   "outputs": [],
   "source": [
    "## write your answer here!\n",
    "from tkinter import *\n",
    "root = Tk()\n",
    "li = ['java', 'SQL', 'html', 'php', 'python', 'c']\n",
    "li2 = ['Bootstrap', 'jQuery', 'CSS']\n",
    "lbox = Listbox(root)\n",
    "lbox2 = Listbox(root)\n",
    "for x in li:\n",
    "    lbox.insert(0,x)\n",
    "for x in li2:\n",
    "    lbox2.insert(0,x)\n",
    "    \n",
    "lbox.pack()\n",
    "lbox2.pack()\n",
    "root.mainloop()"
   ]
  },
  {
   "cell_type": "markdown",
   "metadata": {},
   "source": [
    "4\\.Through the initial trial of Tkinter,    please write a simple calculator.\n",
    "\n",
    "<div style=\"float:left;\" ><img src=\"img/p3.png\" width=\"180\" height=\"200\" center=\"left\"></div>\n",
    "<div style=\"float:left;\" ><img src=\"img/p4.png\" width=\"180\" height=\"200\" center=\"right\" ></div>"
   ]
  },
  {
   "cell_type": "code",
   "execution_count": 71,
   "metadata": {},
   "outputs": [],
   "source": [
    "## write your answer here!\n",
    "from tkinter import * \n",
    "root =Tk() \n",
    "root.title('calculator') \n",
    "root[\"bg\"] = \"red\"\n",
    "\n",
    "frm=Frame(root) \n",
    "frm.pack(expand = YES,fill = BOTH) \n",
    "display=StringVar()\n",
    "e=Entry(frm,textvariable=display,bg='yellow',width=30) \n",
    "e.grid(row=0,column=0,sticky=N,columnspan=4,rowspan=2) \n",
    "\n",
    "def print_jia():\n",
    "    e.insert(INSERT,'+')\n",
    "def print_jian():\n",
    "    e.insert(INSERT,'-')\n",
    "def print_cheng():\n",
    "    e.insert(INSERT,'*')\n",
    "def print_chu():\n",
    "    e.insert(INSERT,'/')\n",
    "def print_dengyu():\n",
    "    e.insert(INSERT,'=')\n",
    "\n",
    "Button(frm,text='1',width=6, height=2,command= lambda :e.insert(INSERT,'1')).grid(row=2,column=0,sticky=W) \n",
    "Button(frm,text='2',width=6, height=2,command= lambda :e.insert(INSERT,'2')).grid(row=2,column=1)\n",
    "Button(frm,text='3',width=6, height=2,command= lambda :e.insert(INSERT,'3')).grid(row=2,column=2)\n",
    "Button(frm,text='4',width=6, height=2,command= lambda :e.insert(INSERT,'4')).grid(row=2,column=3,sticky=W)\n",
    "Button(frm,text='5',width=6, height=2,command= lambda :e.insert(INSERT,'5')).grid(row=3,column=0)\n",
    "Button(frm,text='6',width=6, height=2,command= lambda :e.insert(INSERT,'6')).grid(row=3,column=1)\n",
    "Button(frm,text='7',width=6, height=2,command= lambda :e.insert(INSERT,'7')).grid(row=3,column=2,sticky=W)\n",
    "Button(frm,text='8',width=6, height=2,command= lambda :e.insert(INSERT,'8')).grid(row=3,column=3)\n",
    "Button(frm,text='9',width=6, height=2,command= lambda :e.insert(INSERT,'9')).grid(row=4,column=1)\n",
    "Button(frm,text='/',width=6,command=print_chu).grid(row=5,column=3,sticky=E)\n",
    "Button(frm,text='*',width=6,command=print_cheng).grid(row=5,column=2,sticky=E)\n",
    "Button(frm,text='-',width=6,command=print_jian).grid(row=5,column=1,sticky=E)\n",
    "Button(frm,text='+',width=6,command=print_jia).grid(row=5,column=0,sticky=E)\n",
    "Button(frm,text='=',width=6, height=2,command= lambda :cal(display)).grid(row=4,column=3,sticky=E)\n",
    "Button(frm,text='C',width=3,command= lambda :display.set('')).grid(row=6,column=0,sticky=W)\n",
    "Button(frm,text='0',width=6, height=2,command= lambda :e.insert(INSERT,'0')).grid(row=4,column=2)\n",
    "Button(frm,text='.',width=6, height=2,command= lambda :e.insert(INSERT,'.')).grid(row=4,column=0)\n",
    "Button(frm,text='help',width=3,command= lambda :display.set('help')).grid(row=6,column=1,sticky=W)                                                                                  \n",
    "def cal(display): \n",
    "    display.set(eval(display.get()))\n",
    "\n",
    "root.mainloop()"
   ]
  },
  {
   "cell_type": "markdown",
   "metadata": {},
   "source": [
    "5\\.Ball game:Python's pinball game, which can realize the game function of the keyboard control bottom baffle moving collision ball similar to table tennis game. \n",
    "\n",
    "<div style=\"float:left;\" ><img src=\"img/p5.png\" width=\"200\" height=\"200\" center=\"left\"></div>\n",
    "<div style=\"float:left;\" ><img src=\"img/p6.png\" width=\"200\" height=\"200\" center=\"right\" ></div>\n"
   ]
  },
  {
   "cell_type": "markdown",
   "metadata": {},
   "source": [
    "this is a step:how to install the matplotlib,you can reference this link:https://blog.csdn.net/not_give_up_/article/details/79058272\n",
    "1. Ball Class\n",
    "    draw is responsible for moving Ball\n",
    "    Collision detection, bounce, Ball detection of Paddle \n",
    "2. Paddle Class\n",
    "    draw is responsible for moving Paddle\n",
    "    Collision detection to determine whether or not to continue ,Monitor keyboard events\n",
    "3. main cycle\n",
    "    Drawing the Ball and Paddle"
   ]
  },
  {
   "cell_type": "code",
   "execution_count": 6,
   "metadata": {},
   "outputs": [
    {
     "ename": "TclError",
     "evalue": "can't invoke \"update\" command: application has been destroyed",
     "output_type": "error",
     "traceback": [
      "\u001b[1;31m---------------------------------------------------------------------------\u001b[0m",
      "\u001b[1;31mTclError\u001b[0m                                  Traceback (most recent call last)",
      "\u001b[1;32m<ipython-input-6-11dc1d8882a2>\u001b[0m in \u001b[0;36m<module>\u001b[1;34m()\u001b[0m\n\u001b[0;32m    109\u001b[0m         \u001b[0mpaddle\u001b[0m\u001b[1;33m.\u001b[0m\u001b[0mdraw\u001b[0m\u001b[1;33m(\u001b[0m\u001b[1;33m)\u001b[0m\u001b[1;33m\u001b[0m\u001b[0m\n\u001b[0;32m    110\u001b[0m \u001b[1;33m\u001b[0m\u001b[0m\n\u001b[1;32m--> 111\u001b[1;33m     \u001b[0mtk\u001b[0m\u001b[1;33m.\u001b[0m\u001b[0mupdate_idletasks\u001b[0m\u001b[1;33m(\u001b[0m\u001b[1;33m)\u001b[0m\u001b[1;33m\u001b[0m\u001b[0m\n\u001b[0m\u001b[0;32m    112\u001b[0m     \u001b[0mtk\u001b[0m\u001b[1;33m.\u001b[0m\u001b[0mupdate\u001b[0m\u001b[1;33m(\u001b[0m\u001b[1;33m)\u001b[0m\u001b[1;33m\u001b[0m\u001b[0m\n\u001b[0;32m    113\u001b[0m     \u001b[0mtime\u001b[0m\u001b[1;33m.\u001b[0m\u001b[0msleep\u001b[0m\u001b[1;33m(\u001b[0m\u001b[1;36m0.01\u001b[0m\u001b[1;33m)\u001b[0m\u001b[1;33m\u001b[0m\u001b[0m\n",
      "\u001b[1;32m~\\Anaconda3\\lib\\tkinter\\__init__.py\u001b[0m in \u001b[0;36mupdate_idletasks\u001b[1;34m(self)\u001b[0m\n\u001b[0;32m   1174\u001b[0m         \u001b[0mwill\u001b[0m \u001b[0mupdate\u001b[0m \u001b[0mthe\u001b[0m \u001b[0mdisplay\u001b[0m \u001b[0mof\u001b[0m \u001b[0mwindows\u001b[0m \u001b[0mbut\u001b[0m \u001b[1;32mnot\u001b[0m \u001b[0mprocess\u001b[0m \u001b[0mevents\u001b[0m \u001b[0mcaused\u001b[0m \u001b[0mby\u001b[0m\u001b[1;33m\u001b[0m\u001b[0m\n\u001b[0;32m   1175\u001b[0m         the user.\"\"\"\n\u001b[1;32m-> 1176\u001b[1;33m         \u001b[0mself\u001b[0m\u001b[1;33m.\u001b[0m\u001b[0mtk\u001b[0m\u001b[1;33m.\u001b[0m\u001b[0mcall\u001b[0m\u001b[1;33m(\u001b[0m\u001b[1;34m'update'\u001b[0m\u001b[1;33m,\u001b[0m \u001b[1;34m'idletasks'\u001b[0m\u001b[1;33m)\u001b[0m\u001b[1;33m\u001b[0m\u001b[0m\n\u001b[0m\u001b[0;32m   1177\u001b[0m     \u001b[1;32mdef\u001b[0m \u001b[0mbindtags\u001b[0m\u001b[1;33m(\u001b[0m\u001b[0mself\u001b[0m\u001b[1;33m,\u001b[0m \u001b[0mtagList\u001b[0m\u001b[1;33m=\u001b[0m\u001b[1;32mNone\u001b[0m\u001b[1;33m)\u001b[0m\u001b[1;33m:\u001b[0m\u001b[1;33m\u001b[0m\u001b[0m\n\u001b[0;32m   1178\u001b[0m         \"\"\"Set or get the list of bindtags for this widget.\n",
      "\u001b[1;31mTclError\u001b[0m: can't invoke \"update\" command: application has been destroyed"
     ]
    }
   ],
   "source": [
    "## write your answer here!\n",
    "from tkinter import *\n",
    "import random\n",
    "import time\n",
    "\n",
    "class Ball:\n",
    "    def __init__(self, canvas, paddle, color):\n",
    "        self.canvas = canvas\n",
    "        self.paddle = paddle\n",
    "\n",
    "        self.id = canvas.create_oval(10, 10, 25, 25, fill=color)\n",
    "\n",
    "        starts = [-3, -2, -1, 1, 2, 3]\n",
    "        random.shuffle(starts)\n",
    "\n",
    "        self.x = starts[0]\n",
    "        self.y = -3\n",
    "        self.canvas_height = canvas.winfo_height()\n",
    "        self.canvas_width = canvas.winfo_width()\n",
    "\n",
    "        self.is_hitting_bottom = False\n",
    "\n",
    "        canvas.move(self.id, 245, 100)\n",
    "\n",
    "\n",
    "\n",
    "    def draw(self):\n",
    "        self.canvas.move(self.id, self.x, self.y)\n",
    "\n",
    "        pos = self.canvas.coords(self.id)\n",
    "\n",
    "        if pos[1] <= 0:\n",
    "            self.y = 1\n",
    "\n",
    "        if pos[3] >= self.canvas_height:\n",
    "            # self.y = -1\n",
    "            self.is_hitting_bottom = True\n",
    "\n",
    "        if self.hit_top_paddle(pos) == True:\n",
    "            self.y = -3\n",
    "\n",
    "        if self.hit_bottom_paddle(pos) == True:\n",
    "            self.y = 1\n",
    "\n",
    "        if pos[0] <= 0:\n",
    "            self.x = 3\n",
    "\n",
    "        if pos[2] >= self.canvas_width:\n",
    "            self.x = -3\n",
    "\n",
    "    def hit_top_paddle(self, pos):\n",
    "        paddle_pos = self.canvas.coords(self.paddle.id)\n",
    "        if pos[2] >= paddle_pos[0] and pos[0] <= paddle_pos[2]:\n",
    "            if pos[3] >= paddle_pos[1] and pos[3] <= paddle_pos[3]:\n",
    "                return True\n",
    "\n",
    "        return False\n",
    "\n",
    "    def hit_bottom_paddle(self, pos):\n",
    "        paddle_pos = self.canvas.coords(self.paddle.id)\n",
    "        if pos[2] >= paddle_pos[0] and pos[0] <= paddle_pos[2]:\n",
    "            if pos[1] >= paddle_pos[1] and pos[1] <= paddle_pos[3]:\n",
    "                return True\n",
    "\n",
    "        return False\n",
    "\n",
    "class Paddle:\n",
    "    def __init__(self, canvas, color):\n",
    "        self.canvas = canvas\n",
    "        self.id = canvas.create_rectangle(0, 0, 100, 10, fill=color)\n",
    "\n",
    "        self.x = 0\n",
    "        self.canvas_width = canvas.winfo_width()\n",
    "\n",
    "        canvas.move(self.id, 200, 300)\n",
    "\n",
    "        canvas.bind_all('<KeyPress-Left>', self.move_left)\n",
    "        canvas.bind_all('<KeyPress-Right>', self.move_right)\n",
    "\n",
    "    def draw(self):\n",
    "        self.canvas.move(self.id, self.x, 0)\n",
    "\n",
    "        pos = self.canvas.coords(self.id)\n",
    "\n",
    "        if pos[0] <= 0:\n",
    "            self.x = 0\n",
    "\n",
    "        if pos[2] >= self.canvas_width:\n",
    "            self.x = 0\n",
    "\n",
    "    def move_left(self, event):\n",
    "        self.x = -2\n",
    "\n",
    "    def move_right(self, event):\n",
    "        self.x = 2\n",
    "\n",
    "tk = Tk()\n",
    "tk.title('Game')\n",
    "canvas = Canvas(tk, width=550, height=400, bd=0, highlightthickness=0)\n",
    "canvas.pack()\n",
    "tk.update()\n",
    "\n",
    "paddle = Paddle(canvas, 'blue')\n",
    "ball = Ball(canvas, paddle, 'red')\n",
    "\n",
    "while 1:\n",
    "    if ball.is_hitting_bottom == False:\n",
    "        ball.draw()\n",
    "        paddle.draw()\n",
    "\n",
    "    tk.update_idletasks()\n",
    "    tk.update()\n",
    "    time.sleep(0.01)\n",
    "\n",
    "\n",
    "\n"
   ]
  }
 ],
 "metadata": {
  "kernelspec": {
   "display_name": "Python 3",
   "language": "python",
   "name": "python3"
  },
  "language_info": {
   "codemirror_mode": {
    "name": "ipython",
    "version": 3
   },
   "file_extension": ".py",
   "mimetype": "text/x-python",
   "name": "python",
   "nbconvert_exporter": "python",
   "pygments_lexer": "ipython3",
   "version": "3.6.4"
  }
 },
 "nbformat": 4,
 "nbformat_minor": 2
}
